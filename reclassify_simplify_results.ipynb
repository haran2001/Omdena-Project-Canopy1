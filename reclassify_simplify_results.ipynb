{
 "cells": [
  {
   "cell_type": "code",
   "execution_count": 1,
   "id": "4b4155dd",
   "metadata": {},
   "outputs": [],
   "source": [
    "import numpy as np\n",
    "import pandas as pd\n",
    "import geopandas as gpd\n",
    "\n",
    "import shapely\n",
    "from shapely.ops import transform"
   ]
  },
  {
   "cell_type": "code",
   "execution_count": 135,
   "id": "ddceefba",
   "metadata": {},
   "outputs": [],
   "source": [
    "# this is the modified geojson with reduced coordinate precision\n",
    "input_file = r\"C:\\Users\\haria\\OneDrive\\Desktop\\Omdena-Project-Canopy1\\output\\image_Shifting_cultivation_6.geojson\"\n",
    "output_file = r\"C:\\Users\\haria\\OneDrive\\Desktop\\Omdena-Project-Canopy1\\output\\image_Shifting_cultivation_6_dissolve.geojson\"\n",
    "output_file2 = r\"C:\\Users\\haria\\OneDrive\\Desktop\\Omdena-Project-Canopy1\\output\\image_Shifting_cultivation_6_simple.geojson\""
   ]
  },
  {
   "cell_type": "code",
   "execution_count": 136,
   "id": "80b68574",
   "metadata": {},
   "outputs": [],
   "source": [
    "gdf = gpd.read_file(input_file)"
   ]
  },
  {
   "cell_type": "code",
   "execution_count": 137,
   "id": "d526e20f",
   "metadata": {},
   "outputs": [
    {
     "data": {
      "text/html": [
       "<div>\n",
       "<style scoped>\n",
       "    .dataframe tbody tr th:only-of-type {\n",
       "        vertical-align: middle;\n",
       "    }\n",
       "\n",
       "    .dataframe tbody tr th {\n",
       "        vertical-align: top;\n",
       "    }\n",
       "\n",
       "    .dataframe thead th {\n",
       "        text-align: right;\n",
       "    }\n",
       "</style>\n",
       "<table border=\"1\" class=\"dataframe\">\n",
       "  <thead>\n",
       "    <tr style=\"text-align: right;\">\n",
       "      <th></th>\n",
       "      <th>raster_val</th>\n",
       "      <th>geometry</th>\n",
       "    </tr>\n",
       "  </thead>\n",
       "  <tbody>\n",
       "    <tr>\n",
       "      <th>0</th>\n",
       "      <td>470.0</td>\n",
       "      <td>POLYGON ((28.71061 0.28575, 28.71061 0.28566, ...</td>\n",
       "    </tr>\n",
       "    <tr>\n",
       "      <th>1</th>\n",
       "      <td>479.0</td>\n",
       "      <td>POLYGON ((28.71070 0.28575, 28.71070 0.28566, ...</td>\n",
       "    </tr>\n",
       "    <tr>\n",
       "      <th>2</th>\n",
       "      <td>497.0</td>\n",
       "      <td>POLYGON ((28.71079 0.28575, 28.71079 0.28566, ...</td>\n",
       "    </tr>\n",
       "    <tr>\n",
       "      <th>3</th>\n",
       "      <td>563.0</td>\n",
       "      <td>POLYGON ((28.71088 0.28575, 28.71088 0.28566, ...</td>\n",
       "    </tr>\n",
       "    <tr>\n",
       "      <th>4</th>\n",
       "      <td>638.0</td>\n",
       "      <td>POLYGON ((28.71096 0.28575, 28.71096 0.28566, ...</td>\n",
       "    </tr>\n",
       "  </tbody>\n",
       "</table>\n",
       "</div>"
      ],
      "text/plain": [
       "   raster_val                                           geometry\n",
       "0       470.0  POLYGON ((28.71061 0.28575, 28.71061 0.28566, ...\n",
       "1       479.0  POLYGON ((28.71070 0.28575, 28.71070 0.28566, ...\n",
       "2       497.0  POLYGON ((28.71079 0.28575, 28.71079 0.28566, ...\n",
       "3       563.0  POLYGON ((28.71088 0.28575, 28.71088 0.28566, ...\n",
       "4       638.0  POLYGON ((28.71096 0.28575, 28.71096 0.28566, ..."
      ]
     },
     "execution_count": 137,
     "metadata": {},
     "output_type": "execute_result"
    }
   ],
   "source": [
    "gdf.head()"
   ]
  },
  {
   "cell_type": "code",
   "execution_count": 138,
   "id": "624e9a42",
   "metadata": {},
   "outputs": [
    {
     "data": {
      "text/html": [
       "<div>\n",
       "<style scoped>\n",
       "    .dataframe tbody tr th:only-of-type {\n",
       "        vertical-align: middle;\n",
       "    }\n",
       "\n",
       "    .dataframe tbody tr th {\n",
       "        vertical-align: top;\n",
       "    }\n",
       "\n",
       "    .dataframe thead th {\n",
       "        text-align: right;\n",
       "    }\n",
       "</style>\n",
       "<table border=\"1\" class=\"dataframe\">\n",
       "  <thead>\n",
       "    <tr style=\"text-align: right;\">\n",
       "      <th></th>\n",
       "      <th>idx</th>\n",
       "      <th>a</th>\n",
       "    </tr>\n",
       "  </thead>\n",
       "  <tbody>\n",
       "    <tr>\n",
       "      <th>0</th>\n",
       "      <td>0</td>\n",
       "      <td>194.0</td>\n",
       "    </tr>\n",
       "    <tr>\n",
       "      <th>1</th>\n",
       "      <td>1</td>\n",
       "      <td>196.0</td>\n",
       "    </tr>\n",
       "    <tr>\n",
       "      <th>2</th>\n",
       "      <td>2</td>\n",
       "      <td>200.0</td>\n",
       "    </tr>\n",
       "    <tr>\n",
       "      <th>3</th>\n",
       "      <td>3</td>\n",
       "      <td>201.0</td>\n",
       "    </tr>\n",
       "    <tr>\n",
       "      <th>4</th>\n",
       "      <td>4</td>\n",
       "      <td>203.0</td>\n",
       "    </tr>\n",
       "  </tbody>\n",
       "</table>\n",
       "</div>"
      ],
      "text/plain": [
       "   idx      a\n",
       "0    0  194.0\n",
       "1    1  196.0\n",
       "2    2  200.0\n",
       "3    3  201.0\n",
       "4    4  203.0"
      ]
     },
     "execution_count": 138,
     "metadata": {},
     "output_type": "execute_result"
    }
   ],
   "source": [
    "raster_val = []\n",
    "raster_val = pd.DataFrame(pd.unique(gdf[\"raster_val\"].sort_values()), dtype = float, columns=['a'])\n",
    "raster_val.reset_index(inplace=True)\n",
    "raster_val.rename(columns={\"index\": \"idx\"},inplace=True)\n",
    "raster_val.head()"
   ]
  },
  {
   "cell_type": "code",
   "execution_count": 139,
   "id": "8e890e50",
   "metadata": {},
   "outputs": [
    {
     "data": {
      "text/html": [
       "<div>\n",
       "<style scoped>\n",
       "    .dataframe tbody tr th:only-of-type {\n",
       "        vertical-align: middle;\n",
       "    }\n",
       "\n",
       "    .dataframe tbody tr th {\n",
       "        vertical-align: top;\n",
       "    }\n",
       "\n",
       "    .dataframe thead th {\n",
       "        text-align: right;\n",
       "    }\n",
       "</style>\n",
       "<table border=\"1\" class=\"dataframe\">\n",
       "  <thead>\n",
       "    <tr style=\"text-align: right;\">\n",
       "      <th></th>\n",
       "      <th>raster_val</th>\n",
       "      <th>geometry</th>\n",
       "      <th>new_val</th>\n",
       "      <th>idx</th>\n",
       "      <th>a</th>\n",
       "    </tr>\n",
       "  </thead>\n",
       "  <tbody>\n",
       "    <tr>\n",
       "      <th>0</th>\n",
       "      <td>470.0</td>\n",
       "      <td>POLYGON ((28.71061 0.28575, 28.71061 0.28566, ...</td>\n",
       "      <td>0</td>\n",
       "      <td>270</td>\n",
       "      <td>470.0</td>\n",
       "    </tr>\n",
       "    <tr>\n",
       "      <th>1</th>\n",
       "      <td>470.0</td>\n",
       "      <td>POLYGON ((28.73333 0.28566, 28.73333 0.28557, ...</td>\n",
       "      <td>0</td>\n",
       "      <td>270</td>\n",
       "      <td>470.0</td>\n",
       "    </tr>\n",
       "    <tr>\n",
       "      <th>2</th>\n",
       "      <td>470.0</td>\n",
       "      <td>POLYGON ((28.72040 0.28557, 28.72040 0.28548, ...</td>\n",
       "      <td>0</td>\n",
       "      <td>270</td>\n",
       "      <td>470.0</td>\n",
       "    </tr>\n",
       "    <tr>\n",
       "      <th>3</th>\n",
       "      <td>470.0</td>\n",
       "      <td>POLYGON ((28.73136 0.28530, 28.73136 0.28522, ...</td>\n",
       "      <td>0</td>\n",
       "      <td>270</td>\n",
       "      <td>470.0</td>\n",
       "    </tr>\n",
       "    <tr>\n",
       "      <th>4</th>\n",
       "      <td>470.0</td>\n",
       "      <td>POLYGON ((28.73172 0.28486, 28.73172 0.28477, ...</td>\n",
       "      <td>0</td>\n",
       "      <td>270</td>\n",
       "      <td>470.0</td>\n",
       "    </tr>\n",
       "  </tbody>\n",
       "</table>\n",
       "</div>"
      ],
      "text/plain": [
       "   raster_val                                           geometry  new_val  \\\n",
       "0       470.0  POLYGON ((28.71061 0.28575, 28.71061 0.28566, ...        0   \n",
       "1       470.0  POLYGON ((28.73333 0.28566, 28.73333 0.28557, ...        0   \n",
       "2       470.0  POLYGON ((28.72040 0.28557, 28.72040 0.28548, ...        0   \n",
       "3       470.0  POLYGON ((28.73136 0.28530, 28.73136 0.28522, ...        0   \n",
       "4       470.0  POLYGON ((28.73172 0.28486, 28.73172 0.28477, ...        0   \n",
       "\n",
       "   idx      a  \n",
       "0  270  470.0  \n",
       "1  270  470.0  \n",
       "2  270  470.0  \n",
       "3  270  470.0  \n",
       "4  270  470.0  "
      ]
     },
     "execution_count": 139,
     "metadata": {},
     "output_type": "execute_result"
    }
   ],
   "source": [
    "gdf[\"new_val\"] = 0\n",
    "\n",
    "gdf = pd.merge(gdf, raster_val, left_on = 'raster_val', right_on = 'a', how='outer')\n",
    "\n",
    "gdf.head()"
   ]
  },
  {
   "cell_type": "code",
   "execution_count": 140,
   "id": "52b1df2a",
   "metadata": {},
   "outputs": [
    {
     "data": {
      "text/html": [
       "<div>\n",
       "<style scoped>\n",
       "    .dataframe tbody tr th:only-of-type {\n",
       "        vertical-align: middle;\n",
       "    }\n",
       "\n",
       "    .dataframe tbody tr th {\n",
       "        vertical-align: top;\n",
       "    }\n",
       "\n",
       "    .dataframe thead th {\n",
       "        text-align: right;\n",
       "    }\n",
       "</style>\n",
       "<table border=\"1\" class=\"dataframe\">\n",
       "  <thead>\n",
       "    <tr style=\"text-align: right;\">\n",
       "      <th></th>\n",
       "      <th>raster_val</th>\n",
       "      <th>geometry</th>\n",
       "      <th>new_val</th>\n",
       "    </tr>\n",
       "  </thead>\n",
       "  <tbody>\n",
       "    <tr>\n",
       "      <th>0</th>\n",
       "      <td>470.0</td>\n",
       "      <td>POLYGON ((28.71061 0.28575, 28.71061 0.28566, ...</td>\n",
       "      <td>34</td>\n",
       "    </tr>\n",
       "    <tr>\n",
       "      <th>1</th>\n",
       "      <td>470.0</td>\n",
       "      <td>POLYGON ((28.73333 0.28566, 28.73333 0.28557, ...</td>\n",
       "      <td>34</td>\n",
       "    </tr>\n",
       "    <tr>\n",
       "      <th>2</th>\n",
       "      <td>470.0</td>\n",
       "      <td>POLYGON ((28.72040 0.28557, 28.72040 0.28548, ...</td>\n",
       "      <td>34</td>\n",
       "    </tr>\n",
       "    <tr>\n",
       "      <th>3</th>\n",
       "      <td>470.0</td>\n",
       "      <td>POLYGON ((28.73136 0.28530, 28.73136 0.28522, ...</td>\n",
       "      <td>34</td>\n",
       "    </tr>\n",
       "    <tr>\n",
       "      <th>4</th>\n",
       "      <td>470.0</td>\n",
       "      <td>POLYGON ((28.73172 0.28486, 28.73172 0.28477, ...</td>\n",
       "      <td>34</td>\n",
       "    </tr>\n",
       "  </tbody>\n",
       "</table>\n",
       "</div>"
      ],
      "text/plain": [
       "   raster_val                                           geometry  new_val\n",
       "0       470.0  POLYGON ((28.71061 0.28575, 28.71061 0.28566, ...       34\n",
       "1       470.0  POLYGON ((28.73333 0.28566, 28.73333 0.28557, ...       34\n",
       "2       470.0  POLYGON ((28.72040 0.28557, 28.72040 0.28548, ...       34\n",
       "3       470.0  POLYGON ((28.73136 0.28530, 28.73136 0.28522, ...       34\n",
       "4       470.0  POLYGON ((28.73172 0.28486, 28.73172 0.28477, ...       34"
      ]
     },
     "execution_count": 140,
     "metadata": {},
     "output_type": "execute_result"
    }
   ],
   "source": [
    "gdf.new_val = (gdf[\"idx\"]/max(gdf[\"idx\"])*100).astype(int)\n",
    "gdf.drop(['idx','a'], axis=1, inplace=True)\n",
    "gdf.head()"
   ]
  },
  {
   "cell_type": "code",
   "execution_count": 141,
   "id": "8c2cfc7b",
   "metadata": {},
   "outputs": [],
   "source": [
    "import mapclassify\n"
   ]
  },
  {
   "cell_type": "code",
   "execution_count": 142,
   "id": "72f69545",
   "metadata": {},
   "outputs": [
    {
     "data": {
      "text/plain": [
       "NaturalBreaks\n",
       "\n",
       "    Interval       Count\n",
       "------------------------\n",
       "[  0.00,  11.00] | 77635\n",
       "( 11.00,  21.00] | 49983\n",
       "( 21.00,  36.00] | 15944\n",
       "( 36.00,  55.00] |  9560\n",
       "( 55.00, 100.00] |  5272"
      ]
     },
     "execution_count": 142,
     "metadata": {},
     "output_type": "execute_result"
    }
   ],
   "source": [
    "# Create a Natural Breaks classifier\n",
    "mapclassify.NaturalBreaks(y=gdf.new_val, k=5)"
   ]
  },
  {
   "cell_type": "code",
   "execution_count": 143,
   "id": "d2154070",
   "metadata": {},
   "outputs": [
    {
     "data": {
      "text/html": [
       "<div>\n",
       "<style scoped>\n",
       "    .dataframe tbody tr th:only-of-type {\n",
       "        vertical-align: middle;\n",
       "    }\n",
       "\n",
       "    .dataframe tbody tr th {\n",
       "        vertical-align: top;\n",
       "    }\n",
       "\n",
       "    .dataframe thead th {\n",
       "        text-align: right;\n",
       "    }\n",
       "</style>\n",
       "<table border=\"1\" class=\"dataframe\">\n",
       "  <thead>\n",
       "    <tr style=\"text-align: right;\">\n",
       "      <th></th>\n",
       "      <th>raster_val</th>\n",
       "      <th>geometry</th>\n",
       "      <th>new_val</th>\n",
       "      <th>Class</th>\n",
       "    </tr>\n",
       "  </thead>\n",
       "  <tbody>\n",
       "    <tr>\n",
       "      <th>0</th>\n",
       "      <td>470.0</td>\n",
       "      <td>POLYGON ((28.71061 0.28575, 28.71061 0.28566, ...</td>\n",
       "      <td>34</td>\n",
       "      <td>[2]</td>\n",
       "    </tr>\n",
       "    <tr>\n",
       "      <th>1</th>\n",
       "      <td>470.0</td>\n",
       "      <td>POLYGON ((28.73333 0.28566, 28.73333 0.28557, ...</td>\n",
       "      <td>34</td>\n",
       "      <td>[2]</td>\n",
       "    </tr>\n",
       "    <tr>\n",
       "      <th>2</th>\n",
       "      <td>470.0</td>\n",
       "      <td>POLYGON ((28.72040 0.28557, 28.72040 0.28548, ...</td>\n",
       "      <td>34</td>\n",
       "      <td>[2]</td>\n",
       "    </tr>\n",
       "    <tr>\n",
       "      <th>3</th>\n",
       "      <td>470.0</td>\n",
       "      <td>POLYGON ((28.73136 0.28530, 28.73136 0.28522, ...</td>\n",
       "      <td>34</td>\n",
       "      <td>[2]</td>\n",
       "    </tr>\n",
       "    <tr>\n",
       "      <th>4</th>\n",
       "      <td>470.0</td>\n",
       "      <td>POLYGON ((28.73172 0.28486, 28.73172 0.28477, ...</td>\n",
       "      <td>34</td>\n",
       "      <td>[2]</td>\n",
       "    </tr>\n",
       "  </tbody>\n",
       "</table>\n",
       "</div>"
      ],
      "text/plain": [
       "   raster_val                                           geometry  new_val  \\\n",
       "0       470.0  POLYGON ((28.71061 0.28575, 28.71061 0.28566, ...       34   \n",
       "1       470.0  POLYGON ((28.73333 0.28566, 28.73333 0.28557, ...       34   \n",
       "2       470.0  POLYGON ((28.72040 0.28557, 28.72040 0.28548, ...       34   \n",
       "3       470.0  POLYGON ((28.73136 0.28530, 28.73136 0.28522, ...       34   \n",
       "4       470.0  POLYGON ((28.73172 0.28486, 28.73172 0.28477, ...       34   \n",
       "\n",
       "  Class  \n",
       "0   [2]  \n",
       "1   [2]  \n",
       "2   [2]  \n",
       "3   [2]  \n",
       "4   [2]  "
      ]
     },
     "execution_count": 143,
     "metadata": {},
     "output_type": "execute_result"
    }
   ],
   "source": [
    "# Classify the data\n",
    "# gdf.Class = gdf.new_val.apply(mapclassify.NaturalBreaks(y=gdf.new_val, k=5))\n",
    "gdf['Class'] = gdf.new_val.apply(mapclassify.NaturalBreaks(y=gdf.new_val, k=5))\n",
    "\n",
    "# Let's see what we have\n",
    "gdf.head()"
   ]
  },
  {
   "cell_type": "code",
   "execution_count": 144,
   "id": "86d95c37-153e-42aa-bd4b-567dc9b9eac3",
   "metadata": {},
   "outputs": [],
   "source": [
    "# input_array"
   ]
  },
  {
   "cell_type": "code",
   "execution_count": 145,
   "id": "5e473d17",
   "metadata": {},
   "outputs": [],
   "source": [
    "def flatten(input_array):\n",
    "    result_array = []\n",
    "    for element in input_array:\n",
    "        #print(element[0])\n",
    "        # result_array.append(element[0]+1)\n",
    "        result_array.append(element+1)\n",
    "    return result_array"
   ]
  },
  {
   "cell_type": "code",
   "execution_count": 146,
   "id": "2df028de",
   "metadata": {},
   "outputs": [
    {
     "data": {
      "text/html": [
       "<div>\n",
       "<style scoped>\n",
       "    .dataframe tbody tr th:only-of-type {\n",
       "        vertical-align: middle;\n",
       "    }\n",
       "\n",
       "    .dataframe tbody tr th {\n",
       "        vertical-align: top;\n",
       "    }\n",
       "\n",
       "    .dataframe thead th {\n",
       "        text-align: right;\n",
       "    }\n",
       "</style>\n",
       "<table border=\"1\" class=\"dataframe\">\n",
       "  <thead>\n",
       "    <tr style=\"text-align: right;\">\n",
       "      <th></th>\n",
       "      <th>raster_val</th>\n",
       "      <th>geometry</th>\n",
       "      <th>new_val</th>\n",
       "      <th>Class</th>\n",
       "    </tr>\n",
       "  </thead>\n",
       "  <tbody>\n",
       "    <tr>\n",
       "      <th>0</th>\n",
       "      <td>470.0</td>\n",
       "      <td>POLYGON ((28.71061 0.28575, 28.71061 0.28566, ...</td>\n",
       "      <td>34</td>\n",
       "      <td>3</td>\n",
       "    </tr>\n",
       "    <tr>\n",
       "      <th>1</th>\n",
       "      <td>470.0</td>\n",
       "      <td>POLYGON ((28.73333 0.28566, 28.73333 0.28557, ...</td>\n",
       "      <td>34</td>\n",
       "      <td>3</td>\n",
       "    </tr>\n",
       "    <tr>\n",
       "      <th>2</th>\n",
       "      <td>470.0</td>\n",
       "      <td>POLYGON ((28.72040 0.28557, 28.72040 0.28548, ...</td>\n",
       "      <td>34</td>\n",
       "      <td>3</td>\n",
       "    </tr>\n",
       "    <tr>\n",
       "      <th>3</th>\n",
       "      <td>470.0</td>\n",
       "      <td>POLYGON ((28.73136 0.28530, 28.73136 0.28522, ...</td>\n",
       "      <td>34</td>\n",
       "      <td>3</td>\n",
       "    </tr>\n",
       "    <tr>\n",
       "      <th>4</th>\n",
       "      <td>470.0</td>\n",
       "      <td>POLYGON ((28.73172 0.28486, 28.73172 0.28477, ...</td>\n",
       "      <td>34</td>\n",
       "      <td>3</td>\n",
       "    </tr>\n",
       "  </tbody>\n",
       "</table>\n",
       "</div>"
      ],
      "text/plain": [
       "   raster_val                                           geometry  new_val  \\\n",
       "0       470.0  POLYGON ((28.71061 0.28575, 28.71061 0.28566, ...       34   \n",
       "1       470.0  POLYGON ((28.73333 0.28566, 28.73333 0.28557, ...       34   \n",
       "2       470.0  POLYGON ((28.72040 0.28557, 28.72040 0.28548, ...       34   \n",
       "3       470.0  POLYGON ((28.73136 0.28530, 28.73136 0.28522, ...       34   \n",
       "4       470.0  POLYGON ((28.73172 0.28486, 28.73172 0.28477, ...       34   \n",
       "\n",
       "   Class  \n",
       "0      3  \n",
       "1      3  \n",
       "2      3  \n",
       "3      3  \n",
       "4      3  "
      ]
     },
     "execution_count": 146,
     "metadata": {},
     "output_type": "execute_result"
    }
   ],
   "source": [
    "results = flatten(gdf.Class)\n",
    "results = pd.DataFrame(flatten(gdf.Class))\n",
    "gdf.Class = results\n",
    "gdf.head()"
   ]
  },
  {
   "cell_type": "code",
   "execution_count": 147,
   "id": "3e33d6e4-655c-41a4-8317-143dea7fd92c",
   "metadata": {},
   "outputs": [
    {
     "data": {
      "text/plain": [
       "0         3\n",
       "1         3\n",
       "2         3\n",
       "3         3\n",
       "4         3\n",
       "         ..\n",
       "158389    5\n",
       "158390    5\n",
       "158391    5\n",
       "158392    5\n",
       "158393    5\n",
       "Name: Class, Length: 158394, dtype: int64"
      ]
     },
     "execution_count": 147,
     "metadata": {},
     "output_type": "execute_result"
    }
   ],
   "source": [
    "gdf.Class"
   ]
  },
  {
   "cell_type": "code",
   "execution_count": 148,
   "id": "2f3c78be",
   "metadata": {},
   "outputs": [],
   "source": [
    "# gdf_class = gdf.dissolve(by='Class')\n",
    "# gdf_class = gdf.dissolve(results)\n",
    "gdf_class = gdf.dissolve('Class')\n"
   ]
  },
  {
   "cell_type": "code",
   "execution_count": 149,
   "id": "55818eb9",
   "metadata": {},
   "outputs": [
    {
     "data": {
      "text/html": [
       "<div>\n",
       "<style scoped>\n",
       "    .dataframe tbody tr th:only-of-type {\n",
       "        vertical-align: middle;\n",
       "    }\n",
       "\n",
       "    .dataframe tbody tr th {\n",
       "        vertical-align: top;\n",
       "    }\n",
       "\n",
       "    .dataframe thead th {\n",
       "        text-align: right;\n",
       "    }\n",
       "</style>\n",
       "<table border=\"1\" class=\"dataframe\">\n",
       "  <thead>\n",
       "    <tr style=\"text-align: right;\">\n",
       "      <th></th>\n",
       "      <th>Class</th>\n",
       "      <th>geometry</th>\n",
       "    </tr>\n",
       "  </thead>\n",
       "  <tbody>\n",
       "    <tr>\n",
       "      <th>0</th>\n",
       "      <td>1</td>\n",
       "      <td>MULTIPOLYGON (((28.71105 0.25324, 28.71096 0.2...</td>\n",
       "    </tr>\n",
       "    <tr>\n",
       "      <th>1</th>\n",
       "      <td>2</td>\n",
       "      <td>MULTIPOLYGON (((28.71150 0.25252, 28.71150 0.2...</td>\n",
       "    </tr>\n",
       "    <tr>\n",
       "      <th>2</th>\n",
       "      <td>3</td>\n",
       "      <td>MULTIPOLYGON (((28.71159 0.25135, 28.71150 0.2...</td>\n",
       "    </tr>\n",
       "    <tr>\n",
       "      <th>3</th>\n",
       "      <td>4</td>\n",
       "      <td>MULTIPOLYGON (((28.71114 0.25144, 28.71114 0.2...</td>\n",
       "    </tr>\n",
       "    <tr>\n",
       "      <th>4</th>\n",
       "      <td>5</td>\n",
       "      <td>MULTIPOLYGON (((28.71079 0.25180, 28.71088 0.2...</td>\n",
       "    </tr>\n",
       "  </tbody>\n",
       "</table>\n",
       "</div>"
      ],
      "text/plain": [
       "   Class                                           geometry\n",
       "0      1  MULTIPOLYGON (((28.71105 0.25324, 28.71096 0.2...\n",
       "1      2  MULTIPOLYGON (((28.71150 0.25252, 28.71150 0.2...\n",
       "2      3  MULTIPOLYGON (((28.71159 0.25135, 28.71150 0.2...\n",
       "3      4  MULTIPOLYGON (((28.71114 0.25144, 28.71114 0.2...\n",
       "4      5  MULTIPOLYGON (((28.71079 0.25180, 28.71088 0.2..."
      ]
     },
     "execution_count": 149,
     "metadata": {},
     "output_type": "execute_result"
    }
   ],
   "source": [
    "gdf_class.drop(['raster_val', 'new_val'], axis=1, inplace=True)\n",
    "gdf_class.reset_index(inplace=True)\n",
    "gdf_class\n"
   ]
  },
  {
   "cell_type": "code",
   "execution_count": null,
   "id": "b947b574",
   "metadata": {},
   "outputs": [],
   "source": []
  },
  {
   "cell_type": "code",
   "execution_count": 150,
   "id": "41d1b35c",
   "metadata": {},
   "outputs": [],
   "source": [
    "gdf_class2 = gdf_class.explode(index_parts=True)"
   ]
  },
  {
   "cell_type": "code",
   "execution_count": 151,
   "id": "ac063f3d",
   "metadata": {},
   "outputs": [
    {
     "data": {
      "text/html": [
       "<div>\n",
       "<style scoped>\n",
       "    .dataframe tbody tr th:only-of-type {\n",
       "        vertical-align: middle;\n",
       "    }\n",
       "\n",
       "    .dataframe tbody tr th {\n",
       "        vertical-align: top;\n",
       "    }\n",
       "\n",
       "    .dataframe thead th {\n",
       "        text-align: right;\n",
       "    }\n",
       "</style>\n",
       "<table border=\"1\" class=\"dataframe\">\n",
       "  <thead>\n",
       "    <tr style=\"text-align: right;\">\n",
       "      <th></th>\n",
       "      <th></th>\n",
       "      <th>Class</th>\n",
       "      <th>geometry</th>\n",
       "    </tr>\n",
       "  </thead>\n",
       "  <tbody>\n",
       "    <tr>\n",
       "      <th rowspan=\"5\" valign=\"top\">0</th>\n",
       "      <th>0</th>\n",
       "      <td>1</td>\n",
       "      <td>POLYGON ((28.71105 0.25324, 28.71096 0.25324, ...</td>\n",
       "    </tr>\n",
       "    <tr>\n",
       "      <th>1</th>\n",
       "      <td>1</td>\n",
       "      <td>POLYGON ((28.71079 0.25359, 28.71079 0.25350, ...</td>\n",
       "    </tr>\n",
       "    <tr>\n",
       "      <th>2</th>\n",
       "      <td>1</td>\n",
       "      <td>POLYGON ((28.71061 0.25665, 28.71070 0.25665, ...</td>\n",
       "    </tr>\n",
       "    <tr>\n",
       "      <th>3</th>\n",
       "      <td>1</td>\n",
       "      <td>POLYGON ((28.71088 0.26662, 28.71096 0.26662, ...</td>\n",
       "    </tr>\n",
       "    <tr>\n",
       "      <th>4</th>\n",
       "      <td>1</td>\n",
       "      <td>POLYGON ((28.71070 0.26752, 28.71070 0.26761, ...</td>\n",
       "    </tr>\n",
       "    <tr>\n",
       "      <th>...</th>\n",
       "      <th>...</th>\n",
       "      <td>...</td>\n",
       "      <td>...</td>\n",
       "    </tr>\n",
       "    <tr>\n",
       "      <th rowspan=\"5\" valign=\"top\">4</th>\n",
       "      <th>496</th>\n",
       "      <td>5</td>\n",
       "      <td>POLYGON ((28.74896 0.28045, 28.74905 0.28045, ...</td>\n",
       "    </tr>\n",
       "    <tr>\n",
       "      <th>497</th>\n",
       "      <td>5</td>\n",
       "      <td>POLYGON ((28.74896 0.28045, 28.74887 0.28045, ...</td>\n",
       "    </tr>\n",
       "    <tr>\n",
       "      <th>498</th>\n",
       "      <td>5</td>\n",
       "      <td>POLYGON ((28.74932 0.28108, 28.74941 0.28108, ...</td>\n",
       "    </tr>\n",
       "    <tr>\n",
       "      <th>499</th>\n",
       "      <td>5</td>\n",
       "      <td>POLYGON ((28.74851 0.28099, 28.74842 0.28099, ...</td>\n",
       "    </tr>\n",
       "    <tr>\n",
       "      <th>500</th>\n",
       "      <td>5</td>\n",
       "      <td>POLYGON ((28.74941 0.28126, 28.74950 0.28126, ...</td>\n",
       "    </tr>\n",
       "  </tbody>\n",
       "</table>\n",
       "<p>10118 rows × 2 columns</p>\n",
       "</div>"
      ],
      "text/plain": [
       "       Class                                           geometry\n",
       "0 0        1  POLYGON ((28.71105 0.25324, 28.71096 0.25324, ...\n",
       "  1        1  POLYGON ((28.71079 0.25359, 28.71079 0.25350, ...\n",
       "  2        1  POLYGON ((28.71061 0.25665, 28.71070 0.25665, ...\n",
       "  3        1  POLYGON ((28.71088 0.26662, 28.71096 0.26662, ...\n",
       "  4        1  POLYGON ((28.71070 0.26752, 28.71070 0.26761, ...\n",
       "...      ...                                                ...\n",
       "4 496      5  POLYGON ((28.74896 0.28045, 28.74905 0.28045, ...\n",
       "  497      5  POLYGON ((28.74896 0.28045, 28.74887 0.28045, ...\n",
       "  498      5  POLYGON ((28.74932 0.28108, 28.74941 0.28108, ...\n",
       "  499      5  POLYGON ((28.74851 0.28099, 28.74842 0.28099, ...\n",
       "  500      5  POLYGON ((28.74941 0.28126, 28.74950 0.28126, ...\n",
       "\n",
       "[10118 rows x 2 columns]"
      ]
     },
     "execution_count": 151,
     "metadata": {},
     "output_type": "execute_result"
    }
   ],
   "source": [
    "gdf_class2"
   ]
  },
  {
   "cell_type": "code",
   "execution_count": 152,
   "id": "2147078e",
   "metadata": {},
   "outputs": [
    {
     "data": {
      "text/plain": [
       "158394"
      ]
     },
     "execution_count": 152,
     "metadata": {},
     "output_type": "execute_result"
    }
   ],
   "source": [
    "len(gdf)"
   ]
  },
  {
   "cell_type": "code",
   "execution_count": 153,
   "id": "65c8154d",
   "metadata": {},
   "outputs": [],
   "source": [
    "#save the file:\n",
    "gdf_class2.to_file(output_file)"
   ]
  },
  {
   "cell_type": "code",
   "execution_count": 154,
   "id": "712af570",
   "metadata": {},
   "outputs": [],
   "source": [
    "from shapely.geometry import Point, LineString\n",
    "#EPSG:3857\n",
    "#gdf_class2.to_file(output_file2)\n",
    "\n",
    "gdf_class2 = gdf_class2.to_crs(3857)"
   ]
  },
  {
   "cell_type": "code",
   "execution_count": 155,
   "id": "41e35cd1",
   "metadata": {},
   "outputs": [],
   "source": [
    "#simplifying to a meter:\n",
    "gdf_class2.geometry=gdf_class2.simplify(1)\n",
    "gdf_class2 = gdf_class2.to_crs(4326)"
   ]
  },
  {
   "cell_type": "code",
   "execution_count": 156,
   "id": "34528bdd",
   "metadata": {},
   "outputs": [],
   "source": [
    "gdf_class2.to_file(output_file2)"
   ]
  },
  {
   "cell_type": "code",
   "execution_count": 157,
   "id": "e88b4a98",
   "metadata": {},
   "outputs": [
    {
     "data": {
      "text/html": [
       "<div>\n",
       "<style scoped>\n",
       "    .dataframe tbody tr th:only-of-type {\n",
       "        vertical-align: middle;\n",
       "    }\n",
       "\n",
       "    .dataframe tbody tr th {\n",
       "        vertical-align: top;\n",
       "    }\n",
       "\n",
       "    .dataframe thead th {\n",
       "        text-align: right;\n",
       "    }\n",
       "</style>\n",
       "<table border=\"1\" class=\"dataframe\">\n",
       "  <thead>\n",
       "    <tr style=\"text-align: right;\">\n",
       "      <th></th>\n",
       "      <th></th>\n",
       "      <th>Class</th>\n",
       "      <th>geometry</th>\n",
       "    </tr>\n",
       "  </thead>\n",
       "  <tbody>\n",
       "    <tr>\n",
       "      <th rowspan=\"5\" valign=\"top\">4</th>\n",
       "      <th>496</th>\n",
       "      <td>5</td>\n",
       "      <td>POLYGON ((28.74896 0.28045, 28.74932 0.28045, ...</td>\n",
       "    </tr>\n",
       "    <tr>\n",
       "      <th>497</th>\n",
       "      <td>5</td>\n",
       "      <td>POLYGON ((28.74896 0.28045, 28.74887 0.28045, ...</td>\n",
       "    </tr>\n",
       "    <tr>\n",
       "      <th>498</th>\n",
       "      <td>5</td>\n",
       "      <td>POLYGON ((28.74932 0.28108, 28.74941 0.28108, ...</td>\n",
       "    </tr>\n",
       "    <tr>\n",
       "      <th>499</th>\n",
       "      <td>5</td>\n",
       "      <td>POLYGON ((28.74851 0.28099, 28.74833 0.28099, ...</td>\n",
       "    </tr>\n",
       "    <tr>\n",
       "      <th>500</th>\n",
       "      <td>5</td>\n",
       "      <td>POLYGON ((28.74941 0.28126, 28.74950 0.28126, ...</td>\n",
       "    </tr>\n",
       "  </tbody>\n",
       "</table>\n",
       "</div>"
      ],
      "text/plain": [
       "       Class                                           geometry\n",
       "4 496      5  POLYGON ((28.74896 0.28045, 28.74932 0.28045, ...\n",
       "  497      5  POLYGON ((28.74896 0.28045, 28.74887 0.28045, ...\n",
       "  498      5  POLYGON ((28.74932 0.28108, 28.74941 0.28108, ...\n",
       "  499      5  POLYGON ((28.74851 0.28099, 28.74833 0.28099, ...\n",
       "  500      5  POLYGON ((28.74941 0.28126, 28.74950 0.28126, ..."
      ]
     },
     "execution_count": 157,
     "metadata": {},
     "output_type": "execute_result"
    }
   ],
   "source": [
    "gdf_class2.tail()"
   ]
  },
  {
   "cell_type": "code",
   "execution_count": null,
   "id": "d559f68e",
   "metadata": {},
   "outputs": [],
   "source": []
  },
  {
   "cell_type": "code",
   "execution_count": null,
   "id": "6570fd5a-3369-4cf2-a050-5fa649838066",
   "metadata": {},
   "outputs": [],
   "source": []
  },
  {
   "cell_type": "code",
   "execution_count": null,
   "id": "5ff0ee4f-58c8-46e6-83cd-1cfa9c9ed26f",
   "metadata": {},
   "outputs": [],
   "source": []
  },
  {
   "cell_type": "code",
   "execution_count": null,
   "id": "d2fc5d77-ad4a-4f8b-bc62-f3a608dedabb",
   "metadata": {},
   "outputs": [],
   "source": []
  }
 ],
 "metadata": {
  "kernelspec": {
   "display_name": "Python 3 (ipykernel)",
   "language": "python",
   "name": "python3"
  },
  "language_info": {
   "codemirror_mode": {
    "name": "ipython",
    "version": 3
   },
   "file_extension": ".py",
   "mimetype": "text/x-python",
   "name": "python",
   "nbconvert_exporter": "python",
   "pygments_lexer": "ipython3",
   "version": "3.8.18"
  },
  "toc": {
   "base_numbering": 1,
   "nav_menu": {},
   "number_sections": true,
   "sideBar": true,
   "skip_h1_title": false,
   "title_cell": "Table of Contents",
   "title_sidebar": "Contents",
   "toc_cell": false,
   "toc_position": {},
   "toc_section_display": true,
   "toc_window_display": false
  }
 },
 "nbformat": 4,
 "nbformat_minor": 5
}
